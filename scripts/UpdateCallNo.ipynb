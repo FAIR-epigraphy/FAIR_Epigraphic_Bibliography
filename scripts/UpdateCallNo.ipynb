{
 "cells": [
  {
   "cell_type": "code",
   "execution_count": 1,
   "metadata": {},
   "outputs": [],
   "source": [
    "from pyzotero import zotero\n",
    "zot = zotero.Zotero(4858485, 'group', 'Zotero Library Key')"
   ]
  },
  {
   "cell_type": "markdown",
   "metadata": {},
   "source": [
    "## Modify the existing Call Number"
   ]
  },
  {
   "cell_type": "code",
   "execution_count": null,
   "metadata": {},
   "outputs": [],
   "source": [
    "#items = zot.top(limit=5)\n",
    "# we've retrieved the latest five top-level items in our library\n",
    "# we can print each item's item type and ID\n",
    "for gen in zot.makeiter(zot.top(limit=5)):\n",
    "    for item in gen:\n",
    "        #print('Item: %s | Key: %s' % (item['data']['itemType'], item['data']['key']))\n",
    "        print(item['data']['callNumber'], item['data']['callNumber'].replace('0', '1', 1))\n",
    "        item['data']['callNumber'] = item['data']['callNumber'].replace('0', '1', 1)\n",
    "        #zot.update_item(item['data'])\n",
    "        #break\n",
    "    #break"
   ]
  },
  {
   "cell_type": "markdown",
   "metadata": {},
   "source": [
    "### Replace all Call Numbers with new"
   ]
  },
  {
   "cell_type": "code",
   "execution_count": null,
   "metadata": {},
   "outputs": [],
   "source": [
    "callNumber = 10000000\n",
    "for gen in zot.makeiter(zot.top(limit=20)):\n",
    "    for item in gen:\n",
    "        #print('Item: %s | Key: %s' % (item['data']['itemType'], item['data']['key']))\n",
    "        #print(item['data']['callNumber'])\n",
    "        callNumber = callNumber + 1\n",
    "        #print('epig'+str(callNumber))\n",
    "        item['data']['callNumber'] = 'epig'+str(callNumber)\n",
    "        zot.update_item(item['data'])\n",
    "        print(item['data']['callNumber'], ' replaced with ', 'epig'+str(callNumber))\n",
    "        #break\n",
    "    #break\n",
    "print('done...')"
   ]
  },
  {
   "cell_type": "code",
   "execution_count": null,
   "metadata": {},
   "outputs": [],
   "source": [
    "gen = zot.makeiter(zot.top(limit=5))\n",
    "gen.next() # this will return the first five items\n",
    "gen.next() # this will return the next five items"
   ]
  }
 ],
 "metadata": {
  "kernelspec": {
   "display_name": "Python 3 (ipykernel)",
   "language": "python",
   "name": "python3"
  },
  "language_info": {
   "codemirror_mode": {
    "name": "ipython",
    "version": 3
   },
   "file_extension": ".py",
   "mimetype": "text/x-python",
   "name": "python",
   "nbconvert_exporter": "python",
   "pygments_lexer": "ipython3",
   "version": "3.11.1"
  },
  "vscode": {
   "interpreter": {
    "hash": "aee8b7b246df8f9039afb4144a1f6fd8d2ca17a180786b69acc140d282b71a49"
   }
  }
 },
 "nbformat": 4,
 "nbformat_minor": 4
}
